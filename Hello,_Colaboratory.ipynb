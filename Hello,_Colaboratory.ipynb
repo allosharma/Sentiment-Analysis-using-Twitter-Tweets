{
  "nbformat": 4,
  "nbformat_minor": 0,
  "metadata": {
    "colab": {
      "name": "Hello, Colaboratory",
      "version": "0.3.2",
      "provenance": [],
      "collapsed_sections": [],
      "toc_visible": true
    },
    "kernelspec": {
      "display_name": "Python 3",
      "name": "python3"
    }
  },
  "cells": [
    {
      "cell_type": "markdown",
      "metadata": {
        "id": "view-in-github",
        "colab_type": "text"
      },
      "source": [
        "[View in Colaboratory](https://colab.research.google.com/github/aloksharma9656/unified/blob/master/Hello,_Colaboratory.ipynb)"
      ]
    },
    {
      "metadata": {
        "id": "ANU9ngfwcU1G",
        "colab_type": "text"
      },
      "cell_type": "markdown",
      "source": [
        "# The main program start here"
      ]
    },
    {
      "metadata": {
        "id": "ZYXlFQXwOfTB",
        "colab_type": "code",
        "colab": {
          "base_uri": "https://localhost:8080/",
          "height": 17
        },
        "outputId": "db74dbaa-5331-4d9b-e073-58c3fa939354"
      },
      "cell_type": "code",
      "source": [
        "!pip install -q TextBlob\n",
        "!pip install -q tweepy"
      ],
      "execution_count": 21,
      "outputs": []
    },
    {
      "metadata": {
        "id": "0URD2ynoci8L",
        "colab_type": "text"
      },
      "cell_type": "markdown",
      "source": [
        "# Smaller set of twitter datasets"
      ]
    },
    {
      "metadata": {
        "id": "rvas7gPfaj-_",
        "colab_type": "code",
        "colab": {
          "base_uri": "https://localhost:8080/",
          "height": 34
        },
        "outputId": "c859cef8-e126-49f9-e90d-e475d8d10b9d"
      },
      "cell_type": "code",
      "source": [
        "import tweepy\n",
        "from textblob import TextBlob\n",
        "from google.colab import files\n",
        "import csv\n",
        "import matplotlib.pyplot as plt\n",
        "import math\n",
        "\n",
        "#Final sentiments of users\n",
        "#fin_stm = []\n",
        "#fin_time = []\n",
        "fin_plot = {}\n",
        "\n",
        "# Step 1 - Authenticate\n",
        "consumer_key= 'RTP5kfuwc0Hd5RMavgD3zWAIN'\n",
        "consumer_secret= 'mrBJ0UBWZn68oogvpNoCTvLyxP9SrTbdbtyT1kocDz8Bpz6XS4'\n",
        "\n",
        "access_token='800060045958344704-XvugVHJtGsw2p3CDCzXRqznRzJjYWk1'\n",
        "access_token_secret='WqmnO5RLU1MgWcV30sFGdL8APqnvgArfNLVN0dl33u9gl'\n",
        "\n",
        "auth = tweepy.OAuthHandler(consumer_key, consumer_secret)\n",
        "auth.set_access_token(access_token, access_token_secret)\n",
        "\n",
        "api = tweepy.API(auth)\n",
        "\n",
        "#Step 3 - Retrieve Tweets\n",
        "public_tweets = api.search('Bitcoin' or 'cryptocurrency' or 'ripple' or 'iota')\n",
        "\n",
        "tweetCount = 0\n",
        "\n",
        "#Step4 - Entering data into a csv file.\n",
        "with open('livebitcoin.csv', 'w') as csvfile:\n",
        "    fieldnames = ['Name', 'Total Tweets', 'Favourites_Count', 'Followers', 'User_Verified','User Location',\n",
        "                 'Date of Tweet', 'Tweet Text', 'Tweet Retweet', 'sentiment', 'fin']\n",
        "    writer = csv.DictWriter(csvfile, fieldnames=fieldnames)\n",
        "    writer.writeheader()\n",
        "    \n",
        "    for tweet in public_tweets:\n",
        "        row = {}\n",
        "        row['Name'] = (tweet.user.name)\n",
        "        row['Total Tweets'] = (tweet.user.statuses_count)\n",
        "        row['Favourites_Count'] = (tweet.user.favourites_count)\n",
        "        row['Followers'] = (tweet.user.followers_count)\n",
        "        if tweet.user.verified == True :\n",
        "          row['User_Verified'] = 1\n",
        "        else:\n",
        "          row['User_Verified'] = 0\n",
        "        #row['User_Verified'] = (tweet.user.verified)\n",
        "        row['User Location'] = (tweet.user.location)\n",
        "        row['Date of Tweet'] = (tweet.user.created_at)\n",
        "        d = TextBlob(tweet.text)\n",
        "        if d.detect_language() != 'en' :\n",
        "          row['Tweet Text'] = (d.translate(to='en')) #Translates the tweets if they are not in english.\n",
        "        else:\n",
        "          row['Tweet Text'] = d\n",
        "          \n",
        "        row['Tweet Retweet'] = (tweet.retweet_count)\n",
        "        t = TextBlob(tweet.text)\n",
        "        row['sentiment'] = t.sentiment.polarity\n",
        "        #print(\"hello\", max('Total Tweets'))\n",
        "        row['fin'] = ((1- 1/(1 + tweet.user.statuses_count)) + (1- 1/(1 + tweet.user.favourites_count)) + (1- 1/(1 + tweet.user.followers_count)) + t.sentiment.polarity)/4\n",
        "        #fin_stm.append(row['fin'])\n",
        "        #fin_time.append(row['Date of Tweet'])\n",
        "        fin_plot[row['Date of Tweet']] = row['fin']\n",
        "       \n",
        "        \n",
        "        writer.writerow(row)\n",
        "        \n",
        "    tweetCount += len(public_tweets)\n",
        "    print(\"Downloaded {0} tweets\".format(tweetCount))\n",
        "      \n",
        "import collections\n",
        "\n",
        "\n",
        "od = collections.OrderedDict(sorted(fin_plot.items()))    \n",
        "\n",
        "files.download('livebitcoin.csv')"
      ],
      "execution_count": 70,
      "outputs": [
        {
          "output_type": "stream",
          "text": [
            "Downloaded 13 tweets\n"
          ],
          "name": "stdout"
        }
      ]
    },
    {
      "metadata": {
        "id": "YtGSu13hzrwT",
        "colab_type": "code",
        "colab": {
          "base_uri": "https://localhost:8080/",
          "height": 364
        },
        "outputId": "7ad95626-6f20-4ce7-bf82-272a91641539"
      },
      "cell_type": "code",
      "source": [
        "plt.plot(list(fin_plot.keys()), list(fin_plot.values()), 'r.')\n",
        "plt.plot(list(od.keys()), list(od.values()))"
      ],
      "execution_count": 71,
      "outputs": [
        {
          "output_type": "execute_result",
          "data": {
            "text/plain": [
              "[<matplotlib.lines.Line2D at 0x7f40bb280b38>]"
            ]
          },
          "metadata": {
            "tags": []
          },
          "execution_count": 71
        },
        {
          "output_type": "display_data",
          "data": {
            "image/png": "[encoded data removed]",
            "text/plain": [
              "<matplotlib.figure.Figure at 0x7f40bb280080>"
            ]
          },
          "metadata": {
            "tags": []
          }
        }
      ]
    },
    {
      "metadata": {
        "id": "sWHFu5uu4nnz",
        "colab_type": "text"
      },
      "cell_type": "markdown",
      "source": [
        "# Importing datasets from twitter from last few years"
      ]
    },
    {
      "metadata": {
        "id": "r3DN2iRiYrZ7",
        "colab_type": "code",
        "colab": {
          "base_uri": "https://localhost:8080/",
          "height": 190
        },
        "outputId": "ff71e3d0-878b-4af3-d85c-4354f173b265"
      },
      "cell_type": "code",
      "source": [
        "import tweepy\n",
        "from textblob import TextBlob\n",
        "from google.colab import files\n",
        "import csv\n",
        "import matplotlib.pyplot as plt\n",
        "import math\n",
        "\n",
        "#Final sentiments of users\n",
        "fin_plot = {}\n",
        "\n",
        "\n",
        "  # Step 1 - Authenticate\n",
        "consumer_key= 'RTP5kfuwc0Hd5RMavgD3zWAIN'\n",
        "consumer_secret= 'mrBJ0UBWZn68oogvpNoCTvLyxP9SrTbdbtyT1kocDz8Bpz6XS4'\n",
        "\n",
        "access_token='800060045958344704-XvugVHJtGsw2p3CDCzXRqznRzJjYWk1'\n",
        "access_token_secret='WqmnO5RLU1MgWcV30sFGdL8APqnvgArfNLVN0dl33u9gl'\n",
        "\n",
        "auth = tweepy.AppAuthHandler(consumer_key, consumer_secret)\n",
        " \n",
        "api = tweepy.API(auth, wait_on_rate_limit=True,\n",
        "\t\t\t\t wait_on_rate_limit_notify=True)\n",
        " \n",
        "if (not api):\n",
        "    print (\"Can't Authenticate\")\n",
        "    sys.exit(-1)\n",
        "\n",
        "\n",
        "searchQuery = ('Bitcoin' or 'cryptocurrency' or 'ripple' or 'iota') # this is what we're searching for\n",
        "maxTweets = 500 # Some arbitrary large number\n",
        "tweetsPerQry = 100  # this is the max the API permits\n",
        "since_date = \"2018-01-01\"\n",
        "\n",
        "# If results from a specific ID onwards are reqd, set since_id to that ID.\n",
        "# else default to no lower limit, go as far back as API allows\n",
        "sinceId = None\n",
        "\n",
        "# If results only below a specific ID are, set max_id to that ID.\n",
        "# else default to no upper limit, start from the most recent tweet matching the search query.\n",
        "max_id = -1\n",
        "\n",
        "tweetCount = 0\n",
        "print(\"Downloading max {0} tweets\".format(maxTweets))\n",
        "\n",
        "with open('bitcoin.csv', 'w') as csvfile:\n",
        "    fieldnames = ['Name', 'Total Tweets', 'Favourites_Count', 'Followers', 'User_Verified','User Location',\n",
        "                 'Date of Tweet', 'Tweet Text', 'Tweet Retweet', 'sentiment', 'fin']\n",
        "    writer = csv.DictWriter(csvfile, fieldnames=fieldnames)\n",
        "    writer.writeheader()\n",
        "    while tweetCount < maxTweets:\n",
        "        for tweet in new_tweets:\n",
        "            row = {}\n",
        "            row['Name'] = (tweet.user.name)\n",
        "            row['Total Tweets'] = (tweet.user.statuses_count)\n",
        "            row['Favourites_Count'] = (tweet.user.favourites_count)\n",
        "            row['Followers'] = (tweet.user.followers_count)\n",
        "            if tweet.user.verified == True :\n",
        "              row['User_Verified'] = 1\n",
        "            else:\n",
        "              row['User_Verified'] = 0\n",
        "            #row['User_Verified'] = (tweet.user.verified)\n",
        "            row['User Location'] = (tweet.user.location)\n",
        "            row['Date of Tweet'] = (tweet.user.created_at)\n",
        "            #d = TextBlob(tweet.text)\n",
        "            #if d.detect_language() != 'en' :\n",
        "            #  row['Tweet Text'] = (d.translate(to='en')) #Translates the tweets if they are not in english.\n",
        "            #else:\n",
        "            #  row['Tweet Text'] = d\n",
        "            row['Tweet Text'] = tweet.text\n",
        "\n",
        "            row['Tweet Retweet'] = (tweet.retweet_count)\n",
        "            t = TextBlob(tweet.text)\n",
        "            row['sentiment'] = t.sentiment.polarity\n",
        "            #print(\"hello\", max('Total Tweets'))\n",
        "            row['fin'] = ((1- 1/(1 + tweet.user.statuses_count)) + (1- 1/(1 + tweet.user.favourites_count)) + (1- 1/(1 + tweet.user.followers_count)) + t.sentiment.polarity)/4\n",
        "            #fin_stm.append(row['fin'])\n",
        "            #fin_time.append(row['Date of Tweet'])\n",
        "            fin_plot[row['Date of Tweet']] = row['fin']\n",
        "\n",
        "\n",
        "            writer.writerow(row)\n",
        "        tweetCount += len(new_tweets)\n",
        "        print(\"Downloaded {0} tweets\".format(tweetCount))\n",
        "        max_id = new_tweets[-1].id\n",
        "print (\"Downloaded {0} tweets\".format(tweetCount))\n",
        "import collections\n",
        "\n",
        "\n",
        "od = collections.OrderedDict(sorted(fin_plot.items()))\n",
        "\n",
        "print(od)\n",
        "files.download('bitcoin.csv')"
      ],
      "execution_count": 72,
      "outputs": [
        {
          "output_type": "stream",
          "text": [
            "Downloading max 500 tweets\n",
            "Downloaded 85 tweets\n",
            "Downloaded 170 tweets\n",
            "Downloaded 255 tweets\n",
            "Downloaded 340 tweets\n",
            "Downloaded 425 tweets\n",
            "Downloaded 510 tweets\n",
            "Downloaded 510 tweets\n",
            "OrderedDict([(datetime.datetime(2008, 4, 23, 17, 27, 22), 0.7061513199444234), (datetime.datetime(2008, 7, 22, 23, 22, 53), 0.7491243448814018), (datetime.datetime(2009, 3, 21, 23, 32, 36), 0.7466933547442022), (datetime.datetime(2009, 3, 26, 12, 16, 52), 0.7890333969201118), (datetime.datetime(2009, 4, 4, 2, 11, 50), 0.7997533340755083), (datetime.datetime(2009, 6, 25, 10, 52, 15), 0.7486323355971918), (datetime.datetime(2009, 9, 2, 0, 42, 27), 0.6662590308738476), (datetime.datetime(2010, 2, 23, 13, 0, 50), 0.49944211024278806), (datetime.datetime(2010, 6, 27, 1, 36, 55), 0.7495995690062556), (datetime.datetime(2010, 7, 4, 1, 27, 29), 0.7874389921815547), (datetime.datetime(2010, 8, 25, 1, 25, 8), 0.8423014724649385), (datetime.datetime(2010, 10, 23, 18, 38, 38), 0.8749838167858448), (datetime.datetime(2011, 5, 29, 8, 25, 37), 0.7487199783032208), (datetime.datetime(2012, 3, 5, 19, 48, 20), 0.7491001939768582), (datetime.datetime(2012, 5, 27, 14, 36, 46), 0.8016209680476285), (datetime.datetime(2012, 8, 12, 15, 27, 59), 0.7703303851636344), (datetime.datetime(2012, 10, 16, 9, 8, 35), 0.7498838474583591), (datetime.datetime(2012, 12, 2, 19, 32, 48), 0.7498861286149937), (datetime.datetime(2012, 12, 8, 17, 36, 54), 0.8005437944212819), (datetime.datetime(2013, 1, 18, 12, 38, 55), 0.747977291143464), (datetime.datetime(2013, 5, 9, 8, 58, 20), 0.7369967726892681), (datetime.datetime(2013, 10, 20, 20, 14, 8), 0.749788563242046), (datetime.datetime(2014, 1, 7, 22, 42, 2), 0.7496265544985224), (datetime.datetime(2014, 3, 13, 15, 27, 8), 0.6488227600779396), (datetime.datetime(2014, 3, 29, 22, 7, 51), 0.7499243267802498), (datetime.datetime(2014, 5, 28, 5, 5, 6), 0.7429068599311137), (datetime.datetime(2014, 6, 16, 12, 0, 57), 0.7879245456392754), (datetime.datetime(2014, 7, 8, 17, 15, 30), 0.800285252021334), (datetime.datetime(2015, 3, 17, 3, 16, 2), 0.6627464782188522), (datetime.datetime(2015, 4, 27, 22, 24, 23), 0.7499169695385535), (datetime.datetime(2015, 6, 18, 9, 52, 58), 0.7489105365084308), (datetime.datetime(2015, 8, 10, 0, 27, 51), 0.8718820074400768), (datetime.datetime(2015, 8, 19, 1, 30, 54), 0.749938314741956), (datetime.datetime(2015, 9, 2, 9, 40, 18), 0.744660488882129), (datetime.datetime(2015, 12, 15, 12, 44, 44), 0.7471150081256843), (datetime.datetime(2015, 12, 29, 19, 44, 10), 0.7402422565267309), (datetime.datetime(2016, 1, 15, 15, 31, 52), 0.8011855129799568), (datetime.datetime(2016, 5, 28, 23, 38, 32), 0.7149700666038088), (datetime.datetime(2016, 9, 29, 8, 49, 35), 0.7499618168237527), (datetime.datetime(2017, 1, 8, 19, 15, 42), 0.7626872323527063), (datetime.datetime(2017, 3, 27, 16, 19, 26), 0.7962456635781817), (datetime.datetime(2017, 4, 17, 0, 56, 33), 0.748256390019072), (datetime.datetime(2017, 6, 5, 11, 12, 29), 0.8998428372894894), (datetime.datetime(2017, 6, 16, 8, 52, 39), 0.7492282602593032), (datetime.datetime(2017, 7, 3, 6, 58, 8), 0.748281831472621), (datetime.datetime(2017, 7, 11, 18, 14, 29), 0.7487487954404911), (datetime.datetime(2017, 8, 29, 21, 8, 31), 0.7466841373508186), (datetime.datetime(2017, 9, 4, 18, 10, 50), 0.5877394997360348), (datetime.datetime(2017, 10, 13, 11, 48, 59), 0.7471892214188387), (datetime.datetime(2017, 10, 30, 22, 7, 4), 0.7490521643160307), (datetime.datetime(2017, 11, 21, 23, 5, 13), 0.7381890625103333), (datetime.datetime(2017, 11, 25, 8, 37), 0.7767974244478433), (datetime.datetime(2017, 11, 27, 6, 36, 59), 0.8746199446543284), (datetime.datetime(2017, 11, 30, 4, 50, 34), 0.7498807246572053), (datetime.datetime(2017, 12, 8, 17, 24, 19), 0.738158952299477), (datetime.datetime(2017, 12, 12, 16, 45, 49), 0.7494853994236053), (datetime.datetime(2017, 12, 14, 12, 44, 56), 0.7897542591577321), (datetime.datetime(2017, 12, 17, 13, 19, 18), 0.7484691303185687), (datetime.datetime(2018, 1, 1, 8, 29, 59), 0.7409511139601686), (datetime.datetime(2018, 1, 1, 12, 50, 21), 0.7510647492791035), (datetime.datetime(2018, 1, 7, 7, 50, 43), 0.8010245893360328), (datetime.datetime(2018, 1, 16, 2, 53, 9), 0.7493463650774097), (datetime.datetime(2018, 1, 23, 7, 52, 53), 0.8715769688411198), (datetime.datetime(2018, 2, 2, 12, 30), 0.7433394917049037), (datetime.datetime(2018, 2, 12, 21, 33, 20), 0.6856430403452347), (datetime.datetime(2018, 2, 24, 18, 1, 55), 0.8104022683802621), (datetime.datetime(2018, 4, 7, 14, 6, 14), 0.7515050778235363), (datetime.datetime(2018, 4, 16, 13, 30, 40), 0.5305872088133883), (datetime.datetime(2018, 5, 21, 3, 34, 3), 0.7382617932499638), (datetime.datetime(2018, 5, 23, 14, 30), 0.8349196062558132), (datetime.datetime(2018, 5, 24, 14, 56, 46), 0.784189183832041), (datetime.datetime(2018, 5, 24, 19, 2, 38), 0.8193922305764412), (datetime.datetime(2018, 5, 30, 10, 27, 22), 0.7367464972303681), (datetime.datetime(2018, 5, 31, 22, 28, 41), 0.7680896258720613), (datetime.datetime(2018, 6, 6, 1, 17, 34), 0.6836677814938684)])\n"
          ],
          "name": "stdout"
        }
      ]
    },
    {
      "metadata": {
        "id": "9XlaiJzsDeoV",
        "colab_type": "code",
        "colab": {
          "base_uri": "https://localhost:8080/",
          "height": 364
        },
        "outputId": "c2c72b95-ca5b-4a45-c530-10a53d95dbd4"
      },
      "cell_type": "code",
      "source": [
        "plt.plot(list(fin_plot.keys()), list(fin_plot.values()), 'r.')\n",
        "plt.plot(list(od.keys()), list(od.values()))"
      ],
      "execution_count": 73,
      "outputs": [
        {
          "output_type": "execute_result",
          "data": {
            "text/plain": [
              "[<matplotlib.lines.Line2D at 0x7f40bb08f390>]"
            ]
          },
          "metadata": {
            "tags": []
          },
          "execution_count": 73
        },
        {
          "output_type": "display_data",
          "data": {
            "image/png": "[encoded data removed]",
            "text/plain": [
              "<matplotlib.figure.Figure at 0x7f40bb08f9b0>"
            ]
          },
          "metadata": {
            "tags": []
          }
        }
      ]
    },
    {
      "metadata": {
        "id": "yMM_5CHsbHXa",
        "colab_type": "code",
        "colab": {
          "base_uri": "https://localhost:8080/",
          "height": 432
        },
        "outputId": "52812160-5e1c-40c4-9606-4d489d4e20a8"
      },
      "cell_type": "code",
      "source": [
        "plt.hist(list(fin_plot.keys()))"
      ],
      "execution_count": 74,
      "outputs": [
        {
          "output_type": "execute_result",
          "data": {
            "text/plain": [
              "(array([ 5.,  3.,  4.,  2.,  7.,  4.,  5.,  7.,  5., 33.]),\n",
              " array([733155.72733796, 733525.25999074, 733894.79264352, 734264.3252963 ,\n",
              "        734633.85794907, 735003.39060185, 735372.92325463, 735742.45590741,\n",
              "        736111.98856019, 736481.52121296, 736851.05386574]),\n",
              " <a list of 10 Patch objects>)"
            ]
          },
          "metadata": {
            "tags": []
          },
          "execution_count": 74
        },
        {
          "output_type": "display_data",
          "data": {
            "image/png": "[encoded data removed]",
            "text/plain": [
              "<matplotlib.figure.Figure at 0x7f40bb08f0f0>"
            ]
          },
          "metadata": {
            "tags": []
          }
        }
      ]
    }
  ]
}