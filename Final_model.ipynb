{
  "nbformat": 4,
  "nbformat_minor": 0,
  "metadata": {
    "colab": {
      "name": "Final_model.ipynb",
      "version": "0.3.2",
      "provenance": [],
      "collapsed_sections": [],
      "toc_visible": true
    },
    "kernelspec": {
      "display_name": "Python 3",
      "name": "python3"
    }
  },
  "cells": [
    {
      "cell_type": "markdown",
      "metadata": {
        "id": "view-in-github",
        "colab_type": "text"
      },
      "source": [
        "[View in Colaboratory](https://colab.research.google.com/github/aloksharma9656/unified/blob/master/Final_model.ipynb)"
      ]
    },
    {
      "metadata": {
        "id": "3FbBHP_tQGB9",
        "colab_type": "text"
      },
      "cell_type": "markdown",
      "source": [
        "# Program Starts Here"
      ]
    },
    {
      "metadata": {
        "id": "ZYXlFQXwOfTB",
        "colab_type": "code",
        "colab": {}
      },
      "cell_type": "code",
      "source": [
        "!pip install -q TextBlob\n",
        "!pip install -q tweepy"
      ],
      "execution_count": 0,
      "outputs": []
    },
    {
      "metadata": {
        "id": "O5aSQHJm2dLB",
        "colab_type": "code",
        "colab": {
          "base_uri": "https://localhost:8080/",
          "height": 85
        },
        "outputId": "06031bb1-01f5-452d-829d-172c2193722e"
      },
      "cell_type": "code",
      "source": [
        "import nltk\n",
        "nltk.download('punkt')\n",
        "nltk.download('vader_lexicon')\n",
        "from nltk.sentiment.vader import SentimentIntensityAnalyzer\n",
        "from nltk import tokenize"
      ],
      "execution_count": 3,
      "outputs": [
        {
          "output_type": "stream",
          "text": [
            "[nltk_data] Downloading package punkt to /content/nltk_data...\n",
            "[nltk_data]   Package punkt is already up-to-date!\n",
            "[nltk_data] Downloading package vader_lexicon to /content/nltk_data...\n",
            "[nltk_data]   Package vader_lexicon is already up-to-date!\n"
          ],
          "name": "stdout"
        }
      ]
    },
    {
      "metadata": {
        "id": "B-zNz2TlQVql",
        "colab_type": "text"
      },
      "cell_type": "markdown",
      "source": [
        "**Smaller Dataset for Indepth View**"
      ]
    },
    {
      "metadata": {
        "id": "rvas7gPfaj-_",
        "colab_type": "code",
        "colab": {
          "base_uri": "https://localhost:8080/",
          "height": 34
        },
        "outputId": "7cbf2d58-b094-45b1-bff3-5dcd61150887"
      },
      "cell_type": "code",
      "source": [
        "import tweepy\n",
        "from textblob import TextBlob\n",
        "from google.colab import files\n",
        "import csv\n",
        "import matplotlib.pyplot as plt\n",
        "import math\n",
        "\n",
        "#Final sentiments of users\n",
        "#fin_stm = []\n",
        "#fin_time = []\n",
        "fin_plot = {}\n",
        "\n",
        "# Step 1 - Authenticate\n",
        "consumer_key= 'RTP5kfuwc0Hd5RMavgD3zWAIN'\n",
        "consumer_secret= 'mrBJ0UBWZn68oogvpNoCTvLyxP9SrTbdbtyT1kocDz8Bpz6XS4'\n",
        "\n",
        "access_token='800060045958344704-XvugVHJtGsw2p3CDCzXRqznRzJjYWk1'\n",
        "access_token_secret='WqmnO5RLU1MgWcV30sFGdL8APqnvgArfNLVN0dl33u9gl'\n",
        "\n",
        "auth = tweepy.OAuthHandler(consumer_key, consumer_secret)\n",
        "auth.set_access_token(access_token, access_token_secret)\n",
        "\n",
        "api = tweepy.API(auth)\n",
        "\n",
        "#Step 3 - Retrieve Tweets\n",
        "public_tweets = api.search('cryptocurrency' or 'bitcoin' or 'ripple' or 'iota')\n",
        "\n",
        "tweetCount = 0\n",
        "\n",
        "#Step4 - Entering data into a csv file.\n",
        "with open('livebitcoin.csv', 'w') as csvfile:\n",
        "    fieldnames = ['Name', 'Total Tweets', 'Favourites_Count', 'Followers', 'User_Verified','User Location',\n",
        "                 'Date of Tweet', 'Tweet Text', 'Tweet Retweet', 'sentiment', 'fin']\n",
        "    writer = csv.DictWriter(csvfile, fieldnames=fieldnames)\n",
        "    writer.writeheader()\n",
        "    \n",
        "    for tweet in public_tweets:\n",
        "        row = {}\n",
        "        row['Name'] = (tweet.user.name)\n",
        "        row['Total Tweets'] = (tweet.user.statuses_count)\n",
        "        row['Favourites_Count'] = (tweet.user.favourites_count)\n",
        "        row['Followers'] = (tweet.user.followers_count)\n",
        "        if tweet.user.verified == True :\n",
        "          row['User_Verified'] = 1\n",
        "        else:\n",
        "          row['User_Verified'] = 0\n",
        "        #row['User_Verified'] = (tweet.user.verified)\n",
        "        row['User Location'] = (tweet.user.location)\n",
        "        row['Date of Tweet'] = (tweet.user.created_at)\n",
        "        d = TextBlob(tweet.text)\n",
        "        if d.detect_language() != 'en' :\n",
        "          row['Tweet Text'] = (d.translate(to='en')) #Translates the tweets if they are not in english.\n",
        "        else:\n",
        "          row['Tweet Text'] = d\n",
        "        \n",
        "        #sid = SentimentIntensityAnalyzer()\n",
        "\n",
        "        #ss = sid.polarity_scores(tweet.text)\n",
        "        #for k in sorted(ss):\n",
        "          #row['nltk'] = ('{0}: {1}, '.format(k, ss[k]))\n",
        "          \n",
        "        row['Tweet Retweet'] = (tweet.retweet_count)\n",
        "        t = TextBlob(tweet.text)\n",
        "        row['sentiment'] = t.sentiment.polarity\n",
        "        #print(\"hello\", max('Total Tweets'))\n",
        "        p = (0.20 * (1- 1/(1 + tweet.user.statuses_count)) + 0.50 * (1- 1/(1 + tweet.user.favourites_count)) + 0.60 * (1- 1/(1 + tweet.user.followers_count)) + 0.75 * t.sentiment.polarity)/4\n",
        "        if (t.sentiment.polarity <= 0) and (tweet.user.verified == 0) :\n",
        "          row['fin'] = max(-(1-p), -(0.75 * p))\n",
        "        elif (t.sentiment.polarity >= 0) and (tweet.user.verified == 0) :\n",
        "          row['fin'] = min(1-p, p)\n",
        "        elif (t.sentiment.polarity <= 0) and (tweet.user.verified == 1) :\n",
        "          row['fin'] = min(1-p, 0.05 * p)\n",
        "        elif (t.sentiment.polarity > 0) and (tweet.user.verified == 1) :\n",
        "          row['fin'] = max(p, 1-p)\n",
        "          \n",
        "        #fin_stm.append(row['fin'])\n",
        "        #fin_time.append(row['Date of Tweet'])\n",
        "        fin_plot[row['Date of Tweet']] = row['fin']\n",
        "       \n",
        "        \n",
        "        writer.writerow(row)\n",
        "        \n",
        "    tweetCount += len(public_tweets)\n",
        "    print(\"Downloaded {0} tweets\".format(tweetCount))\n",
        "      \n",
        "import collections\n",
        "\n",
        "\n",
        "od = collections.OrderedDict(sorted(fin_plot.items()))    \n",
        "\n",
        "files.download('livebitcoin.csv')"
      ],
      "execution_count": 4,
      "outputs": [
        {
          "output_type": "stream",
          "text": [
            "Downloaded 14 tweets\n"
          ],
          "name": "stdout"
        }
      ]
    },
    {
      "metadata": {
        "id": "YtGSu13hzrwT",
        "colab_type": "code",
        "colab": {
          "base_uri": "https://localhost:8080/",
          "height": 364
        },
        "outputId": "628edc79-5891-4d5a-caf5-bae558c47369"
      },
      "cell_type": "code",
      "source": [
        "plt.plot(list(fin_plot.keys()), list(fin_plot.values()), 'r.')\n",
        "plt.plot(list(od.keys()), list(od.values()))"
      ],
      "execution_count": 5,
      "outputs": [
        {
          "output_type": "execute_result",
          "data": {
            "text/plain": [
              "[<matplotlib.lines.Line2D at 0x7fa5dc8c3c88>]"
            ]
          },
          "metadata": {
            "tags": []
          },
          "execution_count": 5
        },
        {
          "output_type": "display_data",
          "data": {
            "image/png": "[encoded data removed]",
            "text/plain": [
              "<matplotlib.figure.Figure at 0x7fa5dc8c3cc0>"
            ]
          },
          "metadata": {
            "tags": []
          }
        }
      ]
    },
    {
      "metadata": {
        "id": "sWHFu5uu4nnz",
        "colab_type": "text"
      },
      "cell_type": "markdown",
      "source": [
        "# Importing datasets from twitter from last few years"
      ]
    },
    {
      "metadata": {
        "id": "r3DN2iRiYrZ7",
        "colab_type": "code",
        "colab": {
          "base_uri": "https://localhost:8080/",
          "height": 85
        },
        "outputId": "5077fd70-1172-495d-a850-d5c95509ca54"
      },
      "cell_type": "code",
      "source": [
        "import tweepy\n",
        "from textblob import TextBlob\n",
        "from google.colab import files\n",
        "import csv\n",
        "import numpy as np\n",
        "import matplotlib.pyplot as plt\n",
        "import math\n",
        "\n",
        "#Final sentiments of users\n",
        "fin_plot = {}\n",
        "\n",
        "print('Do you want to put your manual data (y) or you want to go with twitter database (n) : ')\n",
        "path = input()\n",
        "if path == 'y' :\n",
        "  #Want to try with your own data ? \n",
        "  print('Enter Your Name : ')\n",
        "  name = input()\n",
        "  print('Enter your total tweets : ')\n",
        "  total_tweets = int(input())\n",
        "  print('Enter your total followers : ')\n",
        "  total_follower = int(input())\n",
        "  print('Are you a verified user y/n ? : ')\n",
        "  verified = input()\n",
        "  print('How much favourite did you get ? : ')\n",
        "  fav = int(input())\n",
        "  print('Enter your tweet : ')\n",
        "  tweet = input()\n",
        "  tw = TextBlob(tweet)\n",
        "  p = (0.20 * (1- 1/(1 + total_tweets)) + 0.50 * (1- 1/(1 + fav)) + 0.60 * (1- 1/(1 + total_follower)) + 0.75 * tw.sentiment.polarity)/4\n",
        "  if (tw.sentiment.polarity <= 0) and (verified == 'n') :\n",
        "    print(max(-(1-p), -(0.75*p)))\n",
        "    plt.plot(max(-(1-p), -(0.75*p)) , 'r^')\n",
        "  elif (tw.sentiment.polarity >= 0) and (verified == 'n') :\n",
        "    print(min(1-p, p))\n",
        "    plt.plot(min(1-p, p) , 'r^')\n",
        "  elif (tw.sentiment.polarity <= 0) and (verified == 'y') :\n",
        "    print(min(1-p, 0.05 * p))\n",
        "    plt.plot(min(1-p, 0.05 * p) , 'r^')\n",
        "  elif (tw.sentiment.polarity > 0) and (verified == 'y') :\n",
        "    print(max(p, 1-p))\n",
        "    plt.plot(max(p, 1-p) , 'r^')\n",
        "          \n",
        "          \n",
        "  \n",
        "  \n",
        "  \n",
        "  sid = SentimentIntensityAnalyzer()\n",
        "\n",
        "  ss = sid.polarity_scores(tweet)\n",
        "  for k in sorted(ss):\n",
        "    print('{0}: {1}, '.format(k, ss[k]), end='')\n",
        "  print()\n",
        "  \n",
        "  \n",
        "\n",
        "else: \n",
        "    # Step 1 - Authenticate\n",
        "  consumer_key= 'RTP5kfuwc0Hd5RMavgD3zWAIN'\n",
        "  consumer_secret= 'mrBJ0UBWZn68oogvpNoCTvLyxP9SrTbdbtyT1kocDz8Bpz6XS4'\n",
        "\n",
        "  access_token='800060045958344704-XvugVHJtGsw2p3CDCzXRqznRzJjYWk1'\n",
        "  access_token_secret='WqmnO5RLU1MgWcV30sFGdL8APqnvgArfNLVN0dl33u9gl'\n",
        "\n",
        "  auth = tweepy.AppAuthHandler(consumer_key, consumer_secret)\n",
        "\n",
        "  api = tweepy.API(auth, wait_on_rate_limit=True,\n",
        "           wait_on_rate_limit_notify=True)\n",
        "\n",
        "  if (not api):\n",
        "      print (\"Can't Authenticate\")\n",
        "      sys.exit(-1)\n",
        "\n",
        "\n",
        "  searchQuery = ('cryptocurrency' or 'bitcoin' or 'ripple' or 'iota') # this is what we're searching for\n",
        "  new_tweets = api.search('cryptocurrency' or 'bitcoin' or 'ripple' or 'iota')\n",
        "  maxTweets = 3000 # Some arbitrary large number\n",
        "  tweetsPerQry = 100  # this is the max the API permits\n",
        "  since_date = \"2018-01-01\"\n",
        "\n",
        "  # If results from a specific ID onwards are reqd, set since_id to that ID.\n",
        "  # else default to no lower limit, go as far back as API allows\n",
        "  sinceId = None\n",
        "\n",
        "  # If results only below a specific ID are, set max_id to that ID.\n",
        "  # else default to no upper limit, start from the most recent tweet matching the search query.\n",
        "  max_id = -1\n",
        "\n",
        "  tweetCount = 0\n",
        "  print(\"Downloading max {0} tweets\".format(maxTweets))\n",
        "\n",
        "  with open('cryptocurrency.csv', 'w') as csvfile:\n",
        "      fieldnames = ['Name', 'Total Tweets', 'Favourites_Count', 'Followers', 'User_Verified','User Location',\n",
        "                   'Date of Tweet', 'Tweet Text', 'Tweet Retweet', 'sentiment', 'fin']\n",
        "      writer = csv.DictWriter(csvfile, fieldnames=fieldnames)\n",
        "      writer.writeheader()\n",
        "      while tweetCount < maxTweets:\n",
        "          for tweet in new_tweets:\n",
        "              row = {}\n",
        "              row['Name'] = (tweet.user.name)\n",
        "              row['Total Tweets'] = (tweet.user.statuses_count)\n",
        "              row['Favourites_Count'] = (tweet.user.favourites_count)\n",
        "              row['Followers'] = (tweet.user.followers_count)\n",
        "              if tweet.user.verified == True :\n",
        "                row['User_Verified'] = 1\n",
        "              else:\n",
        "                row['User_Verified'] = 0\n",
        "              #row['User_Verified'] = (tweet.user.verified)\n",
        "              row['User Location'] = (tweet.user.location)\n",
        "              row['Date of Tweet'] = (tweet.user.created_at)\n",
        "              #d = TextBlob(tweet.text)\n",
        "              #if d.detect_language() != 'en' :\n",
        "              #  row['Tweet Text'] = (d.translate(to='en')) #Translates the tweets if they are not in english.\n",
        "              #else:\n",
        "              #  row['Tweet Text'] = d\n",
        "              row['Tweet Text'] = tweet.text\n",
        "\n",
        "              row['Tweet Retweet'] = (tweet.retweet_count)\n",
        "              t = TextBlob(tweet.text)\n",
        "              row['sentiment'] = t.sentiment.polarity\n",
        "              #print(\"hello\", max('Total Tweets'))\n",
        "              p = (0.20 * (1- 1/(1 + tweet.user.statuses_count)) + 0.50 * (1- 1/(1 + tweet.user.favourites_count)) + 0.60 * (1- 1/(1 + tweet.user.followers_count)) + 0.75 * t.sentiment.polarity)/4\n",
        "              if (t.sentiment.polarity <= 0) and (tweet.user.verified == 0) :\n",
        "                row['fin'] = max(-(1-p), -(0.75 * p))\n",
        "              elif (t.sentiment.polarity >= 0) and (tweet.user.verified == 0) :\n",
        "                row['fin'] = min(1-p, p)\n",
        "              elif (t.sentiment.polarity <= 0) and (tweet.user.verified == 1) :\n",
        "                row['fin'] = min(1-p, 0.05 * p)\n",
        "              elif (t.sentiment.polarity > 0) and (tweet.user.verified == 1) :\n",
        "                row['fin'] = max(p, 1-p)\n",
        "              #fin_stm.append(row['fin'])\n",
        "              #fin_time.append(row['Date of Tweet'])\n",
        "              fin_plot[row['Date of Tweet']] = row['fin']\n",
        "\n",
        "\n",
        "              writer.writerow(row)\n",
        "          tweetCount += len(new_tweets)\n",
        "          #print(\"Downloaded {0} tweets\".format(tweetCount))\n",
        "          max_id = new_tweets[-1].id\n",
        "  print (\"Downloaded {0} tweets\".format(tweetCount))\n",
        "  import collections\n",
        "\n",
        "\n",
        "  od = collections.OrderedDict(sorted(fin_plot.items()))\n",
        "\n",
        "  #print(od)\n",
        "  files.download('cryptocurrency.csv')"
      ],
      "execution_count": 3,
      "outputs": [
        {
          "output_type": "stream",
          "text": [
            "Do you want to put your manual data (y) or you want to go with twitter database (n) : \n",
            "n\n",
            "Downloading max 3000 tweets\n",
            "Downloaded 3000 tweets\n"
          ],
          "name": "stdout"
        }
      ]
    },
    {
      "metadata": {
        "id": "9XlaiJzsDeoV",
        "colab_type": "code",
        "colab": {
          "base_uri": "https://localhost:8080/",
          "height": 364
        },
        "outputId": "abdf490c-33ac-4979-daa2-d1e387a43c23"
      },
      "cell_type": "code",
      "source": [
        "plt.plot(list(fin_plot.keys()), list(fin_plot.values()), 'r.')\n",
        "plt.plot(list(od.keys()), list(od.values()))"
      ],
      "execution_count": 4,
      "outputs": [
        {
          "output_type": "execute_result",
          "data": {
            "text/plain": [
              "[<matplotlib.lines.Line2D at 0x7f2fe767cf98>]"
            ]
          },
          "metadata": {
            "tags": []
          },
          "execution_count": 4
        },
        {
          "output_type": "display_data",
          "data": {
            "image/png": "[encoded data removed]",
            "text/plain": [
              "<matplotlib.figure.Figure at 0x7f2fe767cf28>"
            ]
          },
          "metadata": {
            "tags": []
          }
        }
      ]
    }
  ]
}